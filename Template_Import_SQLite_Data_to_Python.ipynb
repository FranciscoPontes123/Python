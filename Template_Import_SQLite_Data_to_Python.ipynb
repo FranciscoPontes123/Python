{
 "cells": [
  {
   "cell_type": "markdown",
   "metadata": {},
   "source": [
    "# Imports "
   ]
  },
  {
   "cell_type": "code",
   "execution_count": 2,
   "metadata": {},
   "outputs": [],
   "source": [
    "import sqlite3\n",
    "import pandas as pd\n",
    "import numpy as np\n",
    "import os "
   ]
  },
  {
   "cell_type": "code",
   "execution_count": null,
   "metadata": {},
   "outputs": [],
   "source": [
    "db_path = '../input/soccer/database.sqlite' # Path to the database file example\n",
    "print(f\"Database path: {os.path.abspath(db_path)}\")"
   ]
  },
  {
   "cell_type": "code",
   "execution_count": null,
   "metadata": {},
   "outputs": [],
   "source": [
    "# Path for sqlite database file\n",
    "caminho_do_ficheiro = r\"# Local path to the database file (PC location)\"\n",
    "\n",
    "# Connect to database via path\n",
    "try:\n",
    "    conexao = sqlite3.connect(caminho_do_ficheiro)\n",
    "    print(\"Conexão ao banco de dados estabelecida com sucesso!\")\n",
    "\n",
    "    # Create a cursor to evaluate the database\n",
    "    cursor = conexao.cursor()\n",
    "\n",
    "    # Stores all available tables in a list\n",
    "    cursor.execute(\"SELECT name FROM sqlite_master WHERE type='table';\")\n",
    "    tabelas = cursor.fetchall()\n",
    "\n",
    "    print(\"Tabelas no banco de dados:\")\n",
    "    for tabela in tabelas:\n",
    "        print(tabela[0])\n",
    "    \n",
    "    # Dictionary for df storing\n",
    "    dataframes = {}\n",
    "    \n",
    "    # For each table, retrieves and stores the data in a pandas DataFrame for future use\n",
    "    for tabela in tabelas:\n",
    "        nome_tabela = tabela[0]\n",
    "        nome_df = f\"{nome_tabela}_data\"\n",
    "        \n",
    "        print(f\"\\n--- Carregando dados para {nome_df} ---\")\n",
    "        \n",
    "        query = f\"SELECT * FROM {nome_tabela}\"\n",
    "        \n",
    "        dataframes[nome_df] = pd.read_sql_query(query, conexao)\n",
    "        \n",
    "        globals()[nome_df] = dataframes[nome_df]\n",
    "        \n",
    "        # Shape of each DataFrame\n",
    "        print(f\"Dimensões de {nome_df} (linhas, colunas): {globals()[nome_df].shape}\")\n",
    "        \n",
    "        print(f\"\\nPrimeiras 5 linhas de {nome_df}:\")\n",
    "        print(globals()[nome_df].head())\n",
    "        \n",
    "    print(\"\\nTodos os DataFrames foram criados com sucesso!\")\n",
    "    print(\"DataFrames disponíveis:\")\n",
    "    for nome_df in dataframes.keys():\n",
    "        print(f\"- {nome_df}: {dataframes[nome_df].shape}\")\n",
    "\n",
    "except sqlite3.Error as erro:\n",
    "    print(f\"Erro ao conectar ao banco de dados: {erro}\")\n",
    "\n",
    "finally:\n",
    "    # For safety measures, close the connection to the database\n",
    "    if 'conexao' in locals():\n",
    "        conexao.close()\n",
    "        print(\"Conexão ao banco de dados fechada.\")"
   ]
  }
 ],
 "metadata": {
  "kernelspec": {
   "display_name": "Python 3",
   "language": "python",
   "name": "python3"
  },
  "language_info": {
   "codemirror_mode": {
    "name": "ipython",
    "version": 3
   },
   "file_extension": ".py",
   "mimetype": "text/x-python",
   "name": "python",
   "nbconvert_exporter": "python",
   "pygments_lexer": "ipython3",
   "version": "3.13.1"
  }
 },
 "nbformat": 4,
 "nbformat_minor": 2
}
